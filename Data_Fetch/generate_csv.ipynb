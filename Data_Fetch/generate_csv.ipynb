{
 "cells": [
  {
   "cell_type": "code",
   "execution_count": 11,
   "id": "18ed1253",
   "metadata": {},
   "outputs": [],
   "source": [
    "import pickle"
   ]
  },
  {
   "cell_type": "markdown",
   "id": "10a26b69",
   "metadata": {},
   "source": [
    "# Generate Column Names"
   ]
  },
  {
   "cell_type": "code",
   "execution_count": 12,
   "id": "14016dbf",
   "metadata": {},
   "outputs": [],
   "source": [
    "import csv\n",
    "import pandas as pd"
   ]
  },
  {
   "cell_type": "code",
   "execution_count": 13,
   "id": "86ac14e1",
   "metadata": {},
   "outputs": [],
   "source": [
    "column_names = ['gameId', 'creationTime', 'gameDuration', 'seasonId', 'winner', 'firstBlood', 'firstTower', 'firstInhibitor', 'firstBaron', 'firstDragon', 'firstRiftHerald', 't1_champ1id', 't1_champ1_sum1', 't1_champ1_sum2', 't1_champ2id', 't1_champ2_sum1', 't1_champ2_sum2', 't1_champ3id', 't1_champ3_sum1', 't1_champ3_sum2', 't1_champ4id', 't1_champ4_sum1', 't1_champ4_sum2', 't1_champ5id', 't1_champ5_sum1', 't1_champ5_sum2', 't1_towerKills', 't1_inhibitorKills', 't1_baronKills', 't1_dragonKills', 't1_riftHeraldKills', 't1_ban1', 't1_ban2', 't1_ban3', 't1_ban4', 't1_ban5', 't2_champ1id', 't2_champ1_sum1', 't2_champ1_sum2', 't2_champ2id', 't2_champ2_sum1', 't2_champ2_sum2', 't2_champ3id', 't2_champ3_sum1', 't2_champ3_sum2', 't2_champ4id', 't2_champ4_sum1', 't2_champ4_sum2', 't2_champ5id', 't2_champ5_sum1', 't2_champ5_sum2', 't2_towerKills', 't2_inhibitorKills', 't2_baronKills', 't2_dragonKills', 't2_riftHeraldKills', 't2_ban1', 't2_ban2', 't2_ban3', 't2_ban4', 't2_ban5']"
   ]
  },
  {
   "cell_type": "code",
   "execution_count": 14,
   "id": "5657c5fd",
   "metadata": {},
   "outputs": [
    {
     "name": "stdout",
     "output_type": "stream",
     "text": [
      "61\n"
     ]
    }
   ],
   "source": [
    "print(len(column_names))"
   ]
  },
  {
   "cell_type": "markdown",
   "id": "3c55d59f",
   "metadata": {},
   "source": [
    "# Helper Functions"
   ]
  },
  {
   "cell_type": "code",
   "execution_count": 15,
   "id": "aa005037",
   "metadata": {},
   "outputs": [],
   "source": [
    "def get_first_blood_team(info):\n",
    "    '''\n",
    "    info: the detailed information for two teams in a single match.\n",
    "    Return the team number that get the first blood in a single match. Return 0 if no such team exists.\n",
    "    '''\n",
    "    for participant in info['participants']:\n",
    "        if participant[\"firstBloodKill\"]:\n",
    "            # Find the first blood then return the team number.\n",
    "            # The return value matches the teams' order in info['teams']\n",
    "            if participant['teamId'] == info['teams'][0]['teamId']:\n",
    "                return 1\n",
    "            else:\n",
    "                return 2\n",
    "    # No first blood in current match.\n",
    "    return 0"
   ]
  },
  {
   "cell_type": "code",
   "execution_count": 16,
   "id": "14fe5e0b",
   "metadata": {},
   "outputs": [],
   "source": [
    "def get_first_tower_team(info):\n",
    "    '''\n",
    "    info: the detailed information for two teams in a single match.\n",
    "    Return the team which destroy the first tower in a single match. If no team destroies the inhibitor, then return 0.\n",
    "    '''\n",
    "    for participant in info['participants']:\n",
    "        if participant[\"firstTowerKill\"]:\n",
    "            # Find the first tower then return the team number.\n",
    "            # The return value matches the teams' order in info['teams']\n",
    "            if participant['teamId'] == info['teams'][0]['teamId']:\n",
    "                return 1\n",
    "            else:\n",
    "                return 2\n",
    "    # No first blood in current match.\n",
    "    return 0"
   ]
  },
  {
   "cell_type": "code",
   "execution_count": 17,
   "id": "0bb1ffff",
   "metadata": {},
   "outputs": [],
   "source": [
    "def get_first_inhibitor_team(info):\n",
    "    '''\n",
    "    info: the detailed information for two teams in a single match.\n",
    "    Return the team which destroy the first inhibitor in a single match. If no team destroies the inhibitor, then return 0.\n",
    "    '''\n",
    "    if info['teams'][0]['objectives']['inhibitor']['first']:\n",
    "        return 1\n",
    "    elif info['teams'][1]['objectives']['inhibitor']['first']:\n",
    "        return 2\n",
    "    else:\n",
    "        return 0"
   ]
  },
  {
   "cell_type": "code",
   "execution_count": 18,
   "id": "1fdffedd",
   "metadata": {},
   "outputs": [],
   "source": [
    "def get_first_baron_team(info):\n",
    "    '''\n",
    "    info: the detailed information for two teams in a single match.\n",
    "    Return the team which kill the first baron in a single match. If no team kills the baron, then return 0.\n",
    "    '''\n",
    "    if info['teams'][0]['objectives']['baron']['first']:\n",
    "        return 1\n",
    "    elif info['teams'][1]['objectives']['baron']['first']:\n",
    "        return 2\n",
    "    else:\n",
    "        return 0"
   ]
  },
  {
   "cell_type": "code",
   "execution_count": 19,
   "id": "e7c96b84",
   "metadata": {},
   "outputs": [],
   "source": [
    "def get_first_dragon_team(info):\n",
    "    '''\n",
    "    info: the detailed information for two teams in a single match.\n",
    "    Return the team which kill the first dragon in a single match. If no team kills the dragon, then return 0.\n",
    "    '''\n",
    "    if info['teams'][0]['objectives']['dragon']['first']:\n",
    "        return 1\n",
    "    elif info['teams'][1]['objectives']['dragon']['first']:\n",
    "        return 2\n",
    "    else:\n",
    "        return 0"
   ]
  },
  {
   "cell_type": "code",
   "execution_count": 20,
   "id": "5544bf7e",
   "metadata": {},
   "outputs": [],
   "source": [
    "def get_first_rift_herald_team(info):\n",
    "    '''\n",
    "    info: the detailed information for two teams in a single match.\n",
    "    Return the team which kill the first rift herald in a single match. If no team kills the rift_herald, then return 0.\n",
    "    '''\n",
    "    if info['teams'][0]['objectives']['riftHerald']['first']:\n",
    "        return 1\n",
    "    elif info['teams'][1]['objectives']['riftHerald']['first']:\n",
    "        return 2\n",
    "    else:\n",
    "        return 0"
   ]
  },
  {
   "cell_type": "code",
   "execution_count": 21,
   "id": "b79aabfd",
   "metadata": {},
   "outputs": [],
   "source": [
    "def create_csv_for_one_day(extracted_pkl, df):\n",
    "    new_rows = []\n",
    "    for match in extracted_pkl:\n",
    "\n",
    "        # Remove repetitive record by filtering game id.\n",
    "        if match['info']['gameId'] in df['gameId'].unique():\n",
    "            continue\n",
    "        \n",
    "        # Filter out records with invalid number of teams.\n",
    "        if len(match['info']['teams']) != 2:\n",
    "            continue\n",
    "\n",
    "        # Find the winner for current match\n",
    "        if match['info']['teams'][0]['win']:\n",
    "            winner = 1\n",
    "        else:\n",
    "            winner = 2\n",
    "\n",
    "        new_row = {\n",
    "            'gameId': match['info']['gameId'],\n",
    "            'creationTime': match['info']['gameCreation'],\n",
    "            'gameDuration': match['info']['gameDuration'],\n",
    "            'seasonId': 13,\n",
    "            'winner': winner,\n",
    "            'firstBlood': get_first_blood_team(match['info']),\n",
    "            'firstTower': get_first_tower_team(match['info']),\n",
    "            'firstInhibitor': get_first_inhibitor_team(match['info']),\n",
    "            'firstBaron': get_first_baron_team(match['info']),\n",
    "            'firstDragon': get_first_dragon_team(match['info']),\n",
    "            'firstRiftHerald': get_first_rift_herald_team(match['info']),\n",
    "        }\n",
    "        \n",
    "        # Create champion and summoner spells columns -- 30 columns in total\n",
    "        team_participant_count = {match['info']['teams'][0]['teamId']: 0, match['info']['teams'][1]['teamId']: 0}\n",
    "        for participant in match['info']['participants']:\n",
    "            team_id = 't1_' if participant['teamId'] == match['info']['teams'][0]['teamId'] else 't2_'\n",
    "            \n",
    "            team_participant_count[participant['teamId']] += 1\n",
    "            player_num = team_participant_count[participant['teamId']]\n",
    "            \n",
    "            # Champion and summoner spells\n",
    "            new_row[f'{team_id}champ{player_num}id'] = participant['championId']\n",
    "            new_row[f'{team_id}champ{player_num}_sum1'] = participant['summoner1Id']\n",
    "            new_row[f'{team_id}champ{player_num}_sum2'] = participant['summoner2Id']\n",
    "        \n",
    "        # print(len(match['info']['teams'][0]['bans']))\n",
    "        if len(match['info']['teams'][0]['bans']) != 5 and len(match['info']['teams'][0]['bans']) != 5:\n",
    "            # Skip the matches with invalid bans array\n",
    "            continue\n",
    "        \n",
    "        # Create objectives columns(5 columns) and bans columns(5 columns) for two teams -- 10 columns for each team\n",
    "        for index, team in enumerate(match['info']['teams']):\n",
    "            team_id = f't{index + 1}'\n",
    "            \n",
    "            # objective columns\n",
    "            new_row[f'{team_id}_towerKills'] = team['objectives']['tower']['kills']\n",
    "            new_row[f'{team_id}_inhibitorKills'] = team['objectives']['inhibitor']['kills']\n",
    "            new_row[f'{team_id}_baronKills'] = team['objectives']['baron']['kills']\n",
    "            new_row[f'{team_id}_dragonKills'] = team['objectives']['dragon']['kills']\n",
    "            new_row[f'{team_id}_riftHeraldKills'] = team['objectives']['riftHerald']['kills']\n",
    "            \n",
    "            # bans columns\n",
    "            if (len(team['bans']) == 5):\n",
    "                sorted_bans = sorted(team['bans'], key=lambda x: x['pickTurn'])\n",
    "\n",
    "                team_ban_count = 1\n",
    "                for ban in sorted_bans:\n",
    "                    new_row[f't{index + 1}_ban{team_ban_count}'] = int(ban['championId'])\n",
    "                    team_ban_count += 1\n",
    "\n",
    "        new_rows.append(new_row)\n",
    "        \n",
    "    df = pd.concat([df, pd.DataFrame(new_rows)], ignore_index=True)\n",
    "    print(len(df))\n",
    "    return df\n"
   ]
  },
  {
   "cell_type": "markdown",
   "id": "ff02e2d3",
   "metadata": {},
   "source": [
    "# Creating CSV"
   ]
  },
  {
   "cell_type": "code",
   "execution_count": 26,
   "id": "6d3b8edf",
   "metadata": {},
   "outputs": [
    {
     "data": {
      "text/html": [
       "<div>\n",
       "<style scoped>\n",
       "    .dataframe tbody tr th:only-of-type {\n",
       "        vertical-align: middle;\n",
       "    }\n",
       "\n",
       "    .dataframe tbody tr th {\n",
       "        vertical-align: top;\n",
       "    }\n",
       "\n",
       "    .dataframe thead th {\n",
       "        text-align: right;\n",
       "    }\n",
       "</style>\n",
       "<table border=\"1\" class=\"dataframe\">\n",
       "  <thead>\n",
       "    <tr style=\"text-align: right;\">\n",
       "      <th></th>\n",
       "      <th>gameId</th>\n",
       "      <th>creationTime</th>\n",
       "      <th>gameDuration</th>\n",
       "      <th>seasonId</th>\n",
       "      <th>winner</th>\n",
       "      <th>firstBlood</th>\n",
       "      <th>firstTower</th>\n",
       "      <th>firstInhibitor</th>\n",
       "      <th>firstBaron</th>\n",
       "      <th>firstDragon</th>\n",
       "      <th>...</th>\n",
       "      <th>t2_towerKills</th>\n",
       "      <th>t2_inhibitorKills</th>\n",
       "      <th>t2_baronKills</th>\n",
       "      <th>t2_dragonKills</th>\n",
       "      <th>t2_riftHeraldKills</th>\n",
       "      <th>t2_ban1</th>\n",
       "      <th>t2_ban2</th>\n",
       "      <th>t2_ban3</th>\n",
       "      <th>t2_ban4</th>\n",
       "      <th>t2_ban5</th>\n",
       "    </tr>\n",
       "  </thead>\n",
       "  <tbody>\n",
       "  </tbody>\n",
       "</table>\n",
       "<p>0 rows × 61 columns</p>\n",
       "</div>"
      ],
      "text/plain": [
       "Empty DataFrame\n",
       "Columns: [gameId, creationTime, gameDuration, seasonId, winner, firstBlood, firstTower, firstInhibitor, firstBaron, firstDragon, firstRiftHerald, t1_champ1id, t1_champ1_sum1, t1_champ1_sum2, t1_champ2id, t1_champ2_sum1, t1_champ2_sum2, t1_champ3id, t1_champ3_sum1, t1_champ3_sum2, t1_champ4id, t1_champ4_sum1, t1_champ4_sum2, t1_champ5id, t1_champ5_sum1, t1_champ5_sum2, t1_towerKills, t1_inhibitorKills, t1_baronKills, t1_dragonKills, t1_riftHeraldKills, t1_ban1, t1_ban2, t1_ban3, t1_ban4, t1_ban5, t2_champ1id, t2_champ1_sum1, t2_champ1_sum2, t2_champ2id, t2_champ2_sum1, t2_champ2_sum2, t2_champ3id, t2_champ3_sum1, t2_champ3_sum2, t2_champ4id, t2_champ4_sum1, t2_champ4_sum2, t2_champ5id, t2_champ5_sum1, t2_champ5_sum2, t2_towerKills, t2_inhibitorKills, t2_baronKills, t2_dragonKills, t2_riftHeraldKills, t2_ban1, t2_ban2, t2_ban3, t2_ban4, t2_ban5]\n",
       "Index: []\n",
       "\n",
       "[0 rows x 61 columns]"
      ]
     },
     "execution_count": 26,
     "metadata": {},
     "output_type": "execute_result"
    }
   ],
   "source": [
    "df = pd.DataFrame(columns=column_names)\n",
    "df"
   ]
  },
  {
   "cell_type": "markdown",
   "id": "bc24d59b",
   "metadata": {},
   "source": [
    "## Nov 15"
   ]
  },
  {
   "cell_type": "code",
   "execution_count": 27,
   "id": "bb501cb1",
   "metadata": {},
   "outputs": [],
   "source": [
    "extracted = []\n",
    "with open('/Users/wen/Desktop/match_info.pkl', 'rb') as file:\n",
    "    extracted = pickle.load(file)"
   ]
  },
  {
   "cell_type": "code",
   "execution_count": 28,
   "id": "16dee29c",
   "metadata": {},
   "outputs": [
    {
     "name": "stdout",
     "output_type": "stream",
     "text": [
      "3582\n"
     ]
    }
   ],
   "source": [
    "df = create_csv_for_one_day(extracted, df)"
   ]
  },
  {
   "cell_type": "markdown",
   "id": "a6148bc9",
   "metadata": {},
   "source": [
    "## Nov 16"
   ]
  },
  {
   "cell_type": "code",
   "execution_count": 30,
   "id": "1ddefdc4",
   "metadata": {},
   "outputs": [
    {
     "data": {
      "text/plain": [
       "1701"
      ]
     },
     "execution_count": 30,
     "metadata": {},
     "output_type": "execute_result"
    }
   ],
   "source": [
    "extracted_16 = []\n",
    "with open('/Users/wen/Desktop/match_info1.7k_Nov16.pkl', 'rb') as file:\n",
    "    extracted_16 = pickle.load(file)\n",
    "len(extracted_16)"
   ]
  },
  {
   "cell_type": "code",
   "execution_count": 31,
   "id": "981d2e5b",
   "metadata": {},
   "outputs": [
    {
     "name": "stdout",
     "output_type": "stream",
     "text": [
      "4801\n"
     ]
    }
   ],
   "source": [
    "df = create_csv_for_one_day(extracted_16, df)"
   ]
  },
  {
   "cell_type": "markdown",
   "id": "a7b45052",
   "metadata": {},
   "source": [
    "### Nov 17"
   ]
  },
  {
   "cell_type": "code",
   "execution_count": 32,
   "id": "2ca3514a",
   "metadata": {},
   "outputs": [
    {
     "data": {
      "text/plain": [
       "12901"
      ]
     },
     "execution_count": 32,
     "metadata": {},
     "output_type": "execute_result"
    }
   ],
   "source": [
    "extracted_17 = []\n",
    "with open('/Users/wen/Desktop/match_info12.9k_Nov17.pkl', 'rb') as file:\n",
    "    extracted_17 = pickle.load(file)\n",
    "len(extracted_17)"
   ]
  },
  {
   "cell_type": "code",
   "execution_count": 33,
   "id": "523aa025",
   "metadata": {},
   "outputs": [
    {
     "name": "stdout",
     "output_type": "stream",
     "text": [
      "14147\n"
     ]
    }
   ],
   "source": [
    "df = create_csv_for_one_day(extracted_17, df)"
   ]
  },
  {
   "cell_type": "markdown",
   "id": "a2d7202e",
   "metadata": {},
   "source": [
    "### Nov 18"
   ]
  },
  {
   "cell_type": "code",
   "execution_count": 34,
   "id": "c995800e",
   "metadata": {},
   "outputs": [
    {
     "data": {
      "text/plain": [
       "38044"
      ]
     },
     "execution_count": 34,
     "metadata": {},
     "output_type": "execute_result"
    }
   ],
   "source": [
    "extracted_18 = []\n",
    "with open('/Users/wen/Desktop/match_info38k_Nov18.pkl', 'rb') as file:\n",
    "    extracted_18 = pickle.load(file)\n",
    "len(extracted_18)"
   ]
  },
  {
   "cell_type": "code",
   "execution_count": 35,
   "id": "1ec9bf11",
   "metadata": {},
   "outputs": [
    {
     "name": "stdout",
     "output_type": "stream",
     "text": [
      "39246\n"
     ]
    }
   ],
   "source": [
    "df = create_csv_for_one_day(extracted_18, df)"
   ]
  },
  {
   "cell_type": "markdown",
   "id": "6fe07b7c",
   "metadata": {},
   "source": [
    "### Nov 19"
   ]
  },
  {
   "cell_type": "code",
   "execution_count": 36,
   "id": "7ee17bd6",
   "metadata": {},
   "outputs": [
    {
     "data": {
      "text/plain": [
       "14763"
      ]
     },
     "execution_count": 36,
     "metadata": {},
     "output_type": "execute_result"
    }
   ],
   "source": [
    "extracted_19 = []\n",
    "with open('/Users/wen/Desktop/FLEXSR_matche_info_save14k_Nov19.pkl', 'rb') as file:\n",
    "    extracted_19 = pickle.load(file)\n",
    "len(extracted_19)"
   ]
  },
  {
   "cell_type": "code",
   "execution_count": 37,
   "id": "15fc396e",
   "metadata": {},
   "outputs": [
    {
     "name": "stdout",
     "output_type": "stream",
     "text": [
      "46968\n"
     ]
    }
   ],
   "source": [
    "df = create_csv_for_one_day(extracted_19, df)"
   ]
  },
  {
   "cell_type": "markdown",
   "id": "7a0b0428",
   "metadata": {},
   "source": [
    "### Nov 20"
   ]
  },
  {
   "cell_type": "code",
   "execution_count": 38,
   "id": "fa7cc4f5",
   "metadata": {},
   "outputs": [
    {
     "data": {
      "text/plain": [
       "41819"
      ]
     },
     "execution_count": 38,
     "metadata": {},
     "output_type": "execute_result"
    }
   ],
   "source": [
    "extracted_20 = []\n",
    "with open('/Users/wen/Desktop/match_info41k_Nov20.pkl', 'rb') as file:\n",
    "    extracted_20 = pickle.load(file)\n",
    "len(extracted_20)"
   ]
  },
  {
   "cell_type": "code",
   "execution_count": 39,
   "id": "88bd5a82",
   "metadata": {},
   "outputs": [
    {
     "name": "stdout",
     "output_type": "stream",
     "text": [
      "59719\n"
     ]
    }
   ],
   "source": [
    "df = create_csv_for_one_day(extracted_20, df)"
   ]
  },
  {
   "cell_type": "markdown",
   "id": "4fae41f9",
   "metadata": {},
   "source": [
    "### Nov 22"
   ]
  },
  {
   "cell_type": "code",
   "execution_count": 40,
   "id": "44c8083f",
   "metadata": {},
   "outputs": [
    {
     "data": {
      "text/plain": [
       "14564"
      ]
     },
     "execution_count": 40,
     "metadata": {},
     "output_type": "execute_result"
    }
   ],
   "source": [
    "extracted_22 = []\n",
    "with open('/Users/wen/Desktop/FLEXSR_matche_info_save14k_Nov22.pkl', 'rb') as file:\n",
    "    extracted_22 = pickle.load(file)\n",
    "len(extracted_22)"
   ]
  },
  {
   "cell_type": "code",
   "execution_count": 41,
   "id": "7b4a79da",
   "metadata": {},
   "outputs": [
    {
     "name": "stdout",
     "output_type": "stream",
     "text": [
      "62611\n"
     ]
    }
   ],
   "source": [
    "df = create_csv_for_one_day(extracted_22, df)"
   ]
  },
  {
   "cell_type": "markdown",
   "id": "97e773d4",
   "metadata": {},
   "source": [
    "# Nov 23"
   ]
  },
  {
   "cell_type": "code",
   "execution_count": 42,
   "id": "b8645c2b",
   "metadata": {},
   "outputs": [
    {
     "data": {
      "text/plain": [
       "32569"
      ]
     },
     "execution_count": 42,
     "metadata": {},
     "output_type": "execute_result"
    }
   ],
   "source": [
    "extracted_23 = []\n",
    "with open('/Users/wen/Desktop/match_info32k_Nov23.pkl', 'rb') as file:\n",
    "    extracted_23 = pickle.load(file)\n",
    "len(extracted_23)"
   ]
  },
  {
   "cell_type": "code",
   "execution_count": 43,
   "id": "9c0a8445",
   "metadata": {},
   "outputs": [
    {
     "name": "stdout",
     "output_type": "stream",
     "text": [
      "70105\n"
     ]
    }
   ],
   "source": [
    "df = create_csv_for_one_day(extracted_23, df)"
   ]
  },
  {
   "cell_type": "markdown",
   "id": "a8ab3302",
   "metadata": {},
   "source": [
    "# Nov 27"
   ]
  },
  {
   "cell_type": "code",
   "execution_count": 44,
   "id": "3b1bd633",
   "metadata": {},
   "outputs": [
    {
     "data": {
      "text/plain": [
       "25321"
      ]
     },
     "execution_count": 44,
     "metadata": {},
     "output_type": "execute_result"
    }
   ],
   "source": [
    "extracted_27 = []\n",
    "with open('/Users/wen/Desktop/match_info25k_Nov27.pkl', 'rb') as file:\n",
    "    extracted_27 = pickle.load(file)\n",
    "len(extracted_27)"
   ]
  },
  {
   "cell_type": "code",
   "execution_count": 45,
   "id": "2db9ec2b",
   "metadata": {},
   "outputs": [
    {
     "name": "stdout",
     "output_type": "stream",
     "text": [
      "80831\n"
     ]
    }
   ],
   "source": [
    "df = create_csv_for_one_day(extracted_27, df)"
   ]
  },
  {
   "cell_type": "markdown",
   "id": "81e16730",
   "metadata": {},
   "source": [
    "# Dec 7"
   ]
  },
  {
   "cell_type": "code",
   "execution_count": 46,
   "id": "7e1c12c8",
   "metadata": {},
   "outputs": [
    {
     "data": {
      "text/plain": [
       "18618"
      ]
     },
     "execution_count": 46,
     "metadata": {},
     "output_type": "execute_result"
    }
   ],
   "source": [
    "extracted_12_7 = []\n",
    "with open('/Users/wen/Desktop/match_info18k_Dec7.pkl', 'rb') as file:\n",
    "    extracted_12_7 = pickle.load(file)\n",
    "len(extracted_12_7)"
   ]
  },
  {
   "cell_type": "code",
   "execution_count": 47,
   "id": "0a816477",
   "metadata": {},
   "outputs": [
    {
     "name": "stdout",
     "output_type": "stream",
     "text": [
      "92464\n"
     ]
    }
   ],
   "source": [
    "df = create_csv_for_one_day(extracted_12_7, df)"
   ]
  },
  {
   "cell_type": "markdown",
   "id": "46470a79",
   "metadata": {},
   "source": [
    "# Dec 8"
   ]
  },
  {
   "cell_type": "code",
   "execution_count": 48,
   "id": "cc915e78",
   "metadata": {},
   "outputs": [
    {
     "data": {
      "text/plain": [
       "50864"
      ]
     },
     "execution_count": 48,
     "metadata": {},
     "output_type": "execute_result"
    }
   ],
   "source": [
    "extracted_12_8 = []\n",
    "with open('/Users/wen/Desktop/match_info50k_Dec8.pkl', 'rb') as file:\n",
    "    extracted_12_8 = pickle.load(file)\n",
    "len(extracted_12_8)"
   ]
  },
  {
   "cell_type": "code",
   "execution_count": 49,
   "id": "a6f7a520",
   "metadata": {},
   "outputs": [
    {
     "name": "stdout",
     "output_type": "stream",
     "text": [
      "112809\n"
     ]
    }
   ],
   "source": [
    "df = create_csv_for_one_day(extracted_12_8, df)"
   ]
  },
  {
   "cell_type": "markdown",
   "id": "15c83356",
   "metadata": {},
   "source": [
    "# Save Final CSV"
   ]
  },
  {
   "cell_type": "code",
   "execution_count": 50,
   "id": "e4f7422b",
   "metadata": {},
   "outputs": [],
   "source": [
    "df.to_csv('/Users/wen/Desktop/match_data.csv', index=False)"
   ]
  }
 ],
 "metadata": {
  "kernelspec": {
   "display_name": "Python 3 (ipykernel)",
   "language": "python",
   "name": "python3"
  },
  "language_info": {
   "codemirror_mode": {
    "name": "ipython",
    "version": 3
   },
   "file_extension": ".py",
   "mimetype": "text/x-python",
   "name": "python",
   "nbconvert_exporter": "python",
   "pygments_lexer": "ipython3",
   "version": "3.11.4"
  }
 },
 "nbformat": 4,
 "nbformat_minor": 5
}
